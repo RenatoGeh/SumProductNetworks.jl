{
 "cells": [
  {
   "cell_type": "markdown",
   "metadata": {},
   "source": [
    "# Gens Data Test"
   ]
  },
  {
   "cell_type": "markdown",
   "metadata": {},
   "source": [
    "## First load small data sets for some tests"
   ]
  },
  {
   "cell_type": "code",
   "execution_count": 8,
   "metadata": {
    "collapsed": false
   },
   "outputs": [
    {
     "data": {
      "text/plain": [
       "16181x16 Array{Float64,2}:\n",
       " 0.0  0.0  0.0  0.0  0.0  0.0  0.0  0.0  …  0.0  0.0  0.0  0.0  0.0  0.0  0.0\n",
       " 0.0  0.0  0.0  1.0  0.0  1.0  1.0  1.0     1.0  0.0  1.0  1.0  0.0  0.0  1.0\n",
       " 0.0  0.0  0.0  0.0  1.0  0.0  0.0  0.0     0.0  0.0  0.0  0.0  0.0  0.0  0.0\n",
       " 0.0  1.0  1.0  1.0  1.0  1.0  1.0  1.0     1.0  1.0  1.0  1.0  1.0  1.0  1.0\n",
       " 0.0  0.0  1.0  1.0  0.0  1.0  1.0  1.0     0.0  0.0  0.0  0.0  0.0  0.0  0.0\n",
       " 0.0  0.0  0.0  1.0  1.0  1.0  0.0  1.0  …  1.0  1.0  1.0  1.0  1.0  1.0  0.0\n",
       " 0.0  0.0  0.0  1.0  1.0  1.0  0.0  1.0     1.0  1.0  1.0  1.0  1.0  1.0  0.0\n",
       " 0.0  0.0  0.0  1.0  1.0  1.0  0.0  1.0     1.0  1.0  1.0  0.0  1.0  0.0  0.0\n",
       " 0.0  0.0  0.0  0.0  0.0  0.0  0.0  0.0     0.0  0.0  0.0  0.0  0.0  0.0  0.0\n",
       " 1.0  1.0  0.0  1.0  0.0  1.0  0.0  1.0     1.0  0.0  0.0  0.0  0.0  0.0  0.0\n",
       " 0.0  0.0  0.0  0.0  0.0  0.0  0.0  0.0  …  0.0  0.0  0.0  0.0  0.0  0.0  0.0\n",
       " 0.0  0.0  0.0  1.0  1.0  1.0  1.0  0.0     1.0  1.0  1.0  0.0  1.0  0.0  0.0\n",
       " 0.0  0.0  0.0  0.0  0.0  0.0  0.0  0.0     0.0  0.0  0.0  0.0  0.0  1.0  0.0\n",
       " ⋮                        ⋮              ⋱       ⋮                        ⋮  \n",
       " 0.0  0.0  0.0  0.0  0.0  0.0  0.0  0.0     0.0  0.0  0.0  0.0  0.0  0.0  0.0\n",
       " 0.0  0.0  1.0  1.0  1.0  1.0  1.0  1.0  …  1.0  0.0  1.0  0.0  0.0  0.0  0.0\n",
       " 0.0  0.0  0.0  1.0  0.0  1.0  0.0  0.0     1.0  0.0  1.0  0.0  0.0  0.0  0.0\n",
       " 0.0  0.0  0.0  0.0  0.0  0.0  0.0  0.0     0.0  0.0  0.0  0.0  0.0  0.0  0.0\n",
       " 0.0  1.0  0.0  1.0  0.0  1.0  0.0  0.0     1.0  0.0  0.0  0.0  0.0  0.0  0.0\n",
       " 1.0  1.0  1.0  1.0  1.0  1.0  1.0  1.0     1.0  1.0  1.0  1.0  1.0  1.0  0.0\n",
       " 1.0  1.0  1.0  1.0  0.0  1.0  1.0  1.0  …  1.0  0.0  1.0  1.0  1.0  0.0  0.0\n",
       " 0.0  0.0  0.0  0.0  1.0  1.0  0.0  0.0     1.0  1.0  1.0  1.0  1.0  1.0  0.0\n",
       " 1.0  1.0  1.0  1.0  1.0  1.0  1.0  1.0     1.0  1.0  1.0  1.0  1.0  1.0  1.0\n",
       " 0.0  0.0  0.0  1.0  1.0  1.0  0.0  0.0     1.0  0.0  1.0  0.0  1.0  0.0  0.0\n",
       " 0.0  0.0  0.0  0.0  0.0  0.0  0.0  1.0     1.0  1.0  1.0  0.0  0.0  0.0  0.0\n",
       " 0.0  0.0  1.0  1.0  1.0  1.0  1.0  1.0  …  1.0  0.0  1.0  1.0  0.0  0.0  0.0"
      ]
     },
     "execution_count": 8,
     "metadata": {},
     "output_type": "execute_result"
    }
   ],
   "source": [
    "dataset = \"nltcs\"\n",
    "folder = \"../data/gens/\"\n",
    "\n",
    "# specify data set file endings\n",
    "train_fend = \".ts.data\"\n",
    "valid_fend = \".val.data\"\n",
    "test_fend = \".test.data\"\n",
    "\n",
    "# load training data\n",
    "data = readdlm(string(folder, dataset, train_fend), ',')"
   ]
  },
  {
   "cell_type": "code",
   "execution_count": 13,
   "metadata": {
    "collapsed": false
   },
   "outputs": [
    {
     "ename": "LoadError",
     "evalue": "LoadError: UndefVarError: SumNode not defined\nwhile loading In[13], in expression starting on line 11",
     "output_type": "error",
     "traceback": [
      "LoadError: UndefVarError: SumNode not defined\nwhile loading In[13], in expression starting on line 11",
      ""
     ]
    }
   ],
   "source": [
    "using BNP\n",
    "\n",
    "X = data'\n",
    "\n",
    "(D, N) = size(X)\n",
    "\n",
    "G0 = MultinomialDirichlet(D, 1.0)\n",
    "G0Mirror = MultinomialDirichlet(N, 1.0)\n",
    "\n",
    "# create SPN\n",
    "root = SumNode(0, scope = collect(1:D))\n",
    "dist = MultivariateNode{MultinomialDirichlet}(BNP.add_data(G0, X), collect(1:D))\n",
    "add!(root, dist)\n",
    "\n",
    "# create Assignments\n",
    "assign = Assignments(N)\n",
    "for i in collect(1:N)\n",
    "    assign!(assign, i, root)\n",
    "    assign!(assign, i, dist)\n",
    "end\n",
    "\n",
    "increment!(assign, root, i = N)\n",
    "increment!(assign, dist, i = N)"
   ]
  },
  {
   "cell_type": "code",
   "execution_count": null,
   "metadata": {
    "collapsed": true
   },
   "outputs": [],
   "source": [
    "for i in collect(1:10)\n",
    "    println(\" * - Iteration #\", i)\n",
    "    gibbs_iteration!(root, assign, G0, G0Mirror, X, internalIters = 10)\n",
    "    println(\" * - Draw SPN on iteration #\", i)\n",
    "    SPN.draw(root, file=\"SPN_iteration_$(i).svg\")\n",
    "    println(\" * - Recompute weights\")\n",
    "    SPN.update_weights(root, assign)\n",
    "    println(\" * - LLH: \", llh(root, X)[1])\n",
    "end"
   ]
  }
 ],
 "metadata": {
  "kernelspec": {
   "display_name": "Julia 0.4.0",
   "language": "julia",
   "name": "julia-0.4"
  },
  "language_info": {
   "file_extension": ".jl",
   "mimetype": "application/julia",
   "name": "julia",
   "version": "0.4.0"
  }
 },
 "nbformat": 4,
 "nbformat_minor": 0
}
